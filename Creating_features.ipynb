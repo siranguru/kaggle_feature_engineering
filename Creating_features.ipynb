{
 "cells": [
  {
   "cell_type": "markdown",
   "id": "4416a43c",
   "metadata": {
    "papermill": {
     "duration": 0.005869,
     "end_time": "2024-09-29T12:28:47.715753",
     "exception": false,
     "start_time": "2024-09-29T12:28:47.709884",
     "status": "completed"
    },
    "tags": []
   },
   "source": [
    "**This notebook is an exercise in the [Feature Engineering](https://www.kaggle.com/learn/feature-engineering) course.  You can reference the tutorial at [this link](https://www.kaggle.com/ryanholbrook/creating-features).**\n",
    "\n",
    "---\n"
   ]
  },
  {
   "cell_type": "markdown",
   "id": "a0876eed",
   "metadata": {
    "papermill": {
     "duration": 0.004991,
     "end_time": "2024-09-29T12:28:47.726102",
     "exception": false,
     "start_time": "2024-09-29T12:28:47.721111",
     "status": "completed"
    },
    "tags": []
   },
   "source": [
    "# Introduction #\n",
    "\n",
    "In this exercise you'll start developing the features you identified in Exercise 2 as having the most potential. As you work through this exercise, you might take a moment to look at the data documentation again and consider whether the features we're creating make sense from a real-world perspective, and whether there are any useful combinations that stand out to you.\n",
    "\n",
    "Run this cell to set everything up!"
   ]
  },
  {
   "cell_type": "code",
   "execution_count": 1,
   "id": "e96738ef",
   "metadata": {
    "execution": {
     "iopub.execute_input": "2024-09-29T12:28:47.738558Z",
     "iopub.status.busy": "2024-09-29T12:28:47.738032Z",
     "iopub.status.idle": "2024-09-29T12:28:50.360107Z",
     "shell.execute_reply": "2024-09-29T12:28:50.358879Z"
    },
    "papermill": {
     "duration": 2.631728,
     "end_time": "2024-09-29T12:28:50.363029",
     "exception": false,
     "start_time": "2024-09-29T12:28:47.731301",
     "status": "completed"
    },
    "tags": []
   },
   "outputs": [],
   "source": [
    "# Setup feedback system\n",
    "from learntools.core import binder\n",
    "binder.bind(globals())\n",
    "from learntools.feature_engineering_new.ex3 import *\n",
    "\n",
    "import numpy as np\n",
    "import pandas as pd\n",
    "from sklearn.model_selection import cross_val_score\n",
    "from xgboost import XGBRegressor\n",
    "\n",
    "\n",
    "def score_dataset(X, y, model=XGBRegressor()):\n",
    "    # Label encoding for categoricals\n",
    "    for colname in X.select_dtypes([\"category\", \"object\"]):\n",
    "        X[colname], _ = X[colname].factorize()\n",
    "    # Metric for Housing competition is RMSLE (Root Mean Squared Log Error)\n",
    "    score = cross_val_score(\n",
    "        model, X, y, cv=5, scoring=\"neg_mean_squared_log_error\",\n",
    "    )\n",
    "    score = -1 * score.mean()\n",
    "    score = np.sqrt(score)\n",
    "    return score\n",
    "\n",
    "\n",
    "# Prepare data\n",
    "df = pd.read_csv(\"../input/fe-course-data/ames.csv\")\n",
    "X = df.copy()\n",
    "y = X.pop(\"SalePrice\")"
   ]
  },
  {
   "cell_type": "markdown",
   "id": "83834c5b",
   "metadata": {
    "papermill": {
     "duration": 0.005099,
     "end_time": "2024-09-29T12:28:50.373706",
     "exception": false,
     "start_time": "2024-09-29T12:28:50.368607",
     "status": "completed"
    },
    "tags": []
   },
   "source": [
    "-------------------------------------------------------------------------------\n",
    "\n",
    "Let's start with a few mathematical combinations. We'll focus on features describing areas -- having the same units (square-feet) makes it easy to combine them in sensible ways. Since we're using XGBoost (a tree-based model), we'll focus on ratios and sums.\n",
    "\n",
    "# 1) Create Mathematical Transforms\n",
    "\n",
    "Create the following features:\n",
    "\n",
    "- `LivLotRatio`: the ratio of `GrLivArea` to `LotArea`\n",
    "- `Spaciousness`: the sum of `FirstFlrSF` and `SecondFlrSF` divided by `TotRmsAbvGrd`\n",
    "- `TotalOutsideSF`: the sum of `WoodDeckSF`, `OpenPorchSF`, `EnclosedPorch`, `Threeseasonporch`, and `ScreenPorch`"
   ]
  },
  {
   "cell_type": "code",
   "execution_count": 2,
   "id": "ba59fa50",
   "metadata": {
    "execution": {
     "iopub.execute_input": "2024-09-29T12:28:50.386084Z",
     "iopub.status.busy": "2024-09-29T12:28:50.385658Z",
     "iopub.status.idle": "2024-09-29T12:28:50.411247Z",
     "shell.execute_reply": "2024-09-29T12:28:50.410026Z"
    },
    "lines_to_next_cell": 0,
    "papermill": {
     "duration": 0.034917,
     "end_time": "2024-09-29T12:28:50.413866",
     "exception": false,
     "start_time": "2024-09-29T12:28:50.378949",
     "status": "completed"
    },
    "tags": []
   },
   "outputs": [
    {
     "data": {
      "application/javascript": [
       "parent.postMessage({\"jupyterEvent\": \"custom.exercise_interaction\", \"data\": {\"outcomeType\": 1, \"valueTowardsCompletion\": 0.2, \"interactionType\": 1, \"questionType\": 2, \"questionId\": \"1_Q1\", \"learnToolsVersion\": \"0.3.4\", \"failureMessage\": \"\", \"exceptionClass\": \"\", \"trace\": \"\"}}, \"*\")"
      ],
      "text/plain": [
       "<IPython.core.display.Javascript object>"
      ]
     },
     "metadata": {},
     "output_type": "display_data"
    },
    {
     "data": {
      "text/markdown": [
       "<span style=\"color:#33cc33\">Correct</span>"
      ],
      "text/plain": [
       "Correct"
      ]
     },
     "metadata": {},
     "output_type": "display_data"
    }
   ],
   "source": [
    "# YOUR CODE HERE\n",
    "X_1 = pd.DataFrame()  # dataframe to hold new features\n",
    "\n",
    "X_1[\"LivLotRatio\"] = df.GrLivArea/df.LotArea\n",
    "X_1[\"Spaciousness\"] = df[[\"FirstFlrSF\", \"SecondFlrSF\"]].sum(axis = 1)/df[\"TotRmsAbvGrd\"]\n",
    "X_1[\"TotalOutsideSF\"] = df[[\"WoodDeckSF\", \"OpenPorchSF\", \"EnclosedPorch\", \"Threeseasonporch\", \"ScreenPorch\"]].sum(axis = 1)\n",
    "\n",
    "# Check your answer\n",
    "q_1.check()"
   ]
  },
  {
   "cell_type": "code",
   "execution_count": 3,
   "id": "25e643fd",
   "metadata": {
    "execution": {
     "iopub.execute_input": "2024-09-29T12:28:50.428019Z",
     "iopub.status.busy": "2024-09-29T12:28:50.427411Z",
     "iopub.status.idle": "2024-09-29T12:28:50.432983Z",
     "shell.execute_reply": "2024-09-29T12:28:50.431379Z"
    },
    "lines_to_next_cell": 0,
    "papermill": {
     "duration": 0.015462,
     "end_time": "2024-09-29T12:28:50.435655",
     "exception": false,
     "start_time": "2024-09-29T12:28:50.420193",
     "status": "completed"
    },
    "tags": []
   },
   "outputs": [],
   "source": [
    "# Lines below will give you a hint or solution code\n",
    "#q_1.hint()\n",
    "#q_1.solution()"
   ]
  },
  {
   "cell_type": "markdown",
   "id": "577b647f",
   "metadata": {
    "papermill": {
     "duration": 0.006154,
     "end_time": "2024-09-29T12:28:50.447706",
     "exception": false,
     "start_time": "2024-09-29T12:28:50.441552",
     "status": "completed"
    },
    "tags": []
   },
   "source": [
    "-------------------------------------------------------------------------------\n",
    "\n",
    "If you've discovered an interaction effect between a numeric feature and a categorical feature, you might want to model it explicitly using a one-hot encoding, like so:\n",
    "\n",
    "```\n",
    "# One-hot encode Categorical feature, adding a column prefix \"Cat\"\n",
    "X_new = pd.get_dummies(df.Categorical, prefix=\"Cat\")\n",
    "\n",
    "# Multiply row-by-row\n",
    "X_new = X_new.mul(df.Continuous, axis=0)\n",
    "\n",
    "# Join the new features to the feature set\n",
    "X = X.join(X_new)\n",
    "```\n",
    "\n",
    "# 2) Interaction with a Categorical\n",
    "\n",
    "We discovered an interaction between `BldgType` and `GrLivArea` in Exercise 2. Now create their interaction features."
   ]
  },
  {
   "cell_type": "code",
   "execution_count": 4,
   "id": "46ee57fb",
   "metadata": {
    "execution": {
     "iopub.execute_input": "2024-09-29T12:28:50.462182Z",
     "iopub.status.busy": "2024-09-29T12:28:50.461783Z",
     "iopub.status.idle": "2024-09-29T12:28:50.478561Z",
     "shell.execute_reply": "2024-09-29T12:28:50.477339Z"
    },
    "lines_to_next_cell": 0,
    "papermill": {
     "duration": 0.027135,
     "end_time": "2024-09-29T12:28:50.480874",
     "exception": false,
     "start_time": "2024-09-29T12:28:50.453739",
     "status": "completed"
    },
    "tags": []
   },
   "outputs": [
    {
     "data": {
      "application/javascript": [
       "parent.postMessage({\"jupyterEvent\": \"custom.exercise_interaction\", \"data\": {\"outcomeType\": 1, \"valueTowardsCompletion\": 0.2, \"interactionType\": 1, \"questionType\": 2, \"questionId\": \"2_Q2\", \"learnToolsVersion\": \"0.3.4\", \"failureMessage\": \"\", \"exceptionClass\": \"\", \"trace\": \"\"}}, \"*\")"
      ],
      "text/plain": [
       "<IPython.core.display.Javascript object>"
      ]
     },
     "metadata": {},
     "output_type": "display_data"
    },
    {
     "data": {
      "text/markdown": [
       "<span style=\"color:#33cc33\">Correct</span>"
      ],
      "text/plain": [
       "Correct"
      ]
     },
     "metadata": {},
     "output_type": "display_data"
    }
   ],
   "source": [
    "# YOUR CODE HERE\n",
    "# One-hot encode BldgType. Use `prefix=\"Bldg\"` in `get_dummies`\n",
    "X_2 = pd.get_dummies(df.BldgType, prefix=\"Bldg\") \n",
    "# Multiply\n",
    "X_2 = X_2.mul(df.GrLivArea, axis = 0)\n",
    "\n",
    "\n",
    "# Check your answer\n",
    "q_2.check()"
   ]
  },
  {
   "cell_type": "code",
   "execution_count": 5,
   "id": "1a853ce2",
   "metadata": {
    "execution": {
     "iopub.execute_input": "2024-09-29T12:28:50.495120Z",
     "iopub.status.busy": "2024-09-29T12:28:50.494323Z",
     "iopub.status.idle": "2024-09-29T12:28:50.503485Z",
     "shell.execute_reply": "2024-09-29T12:28:50.502246Z"
    },
    "lines_to_next_cell": 0,
    "papermill": {
     "duration": 0.018861,
     "end_time": "2024-09-29T12:28:50.505906",
     "exception": false,
     "start_time": "2024-09-29T12:28:50.487045",
     "status": "completed"
    },
    "tags": []
   },
   "outputs": [
    {
     "data": {
      "application/javascript": [
       "parent.postMessage({\"jupyterEvent\": \"custom.exercise_interaction\", \"data\": {\"interactionType\": 2, \"questionType\": 2, \"questionId\": \"2_Q2\", \"learnToolsVersion\": \"0.3.4\", \"valueTowardsCompletion\": 0.0, \"failureMessage\": \"\", \"exceptionClass\": \"\", \"trace\": \"\", \"outcomeType\": 4}}, \"*\")"
      ],
      "text/plain": [
       "<IPython.core.display.Javascript object>"
      ]
     },
     "metadata": {},
     "output_type": "display_data"
    },
    {
     "data": {
      "text/markdown": [
       "<span style=\"color:#3366cc\">Hint:</span> Your code should look something like:\n",
       "```python\n",
       "X_2 = pd.get_dummies(____, prefix=\"Bldg\")\n",
       "X_2 = X_2.mul(____, axis=0)\n",
       "```\n"
      ],
      "text/plain": [
       "Hint: Your code should look something like:\n",
       "```python\n",
       "X_2 = pd.get_dummies(____, prefix=\"Bldg\")\n",
       "X_2 = X_2.mul(____, axis=0)\n",
       "```"
      ]
     },
     "metadata": {},
     "output_type": "display_data"
    }
   ],
   "source": [
    "# Lines below will give you a hint or solution code\n",
    "q_2.hint()\n",
    "#q_2.solution()"
   ]
  },
  {
   "cell_type": "markdown",
   "id": "a80d02fa",
   "metadata": {
    "lines_to_next_cell": 0,
    "papermill": {
     "duration": 0.005838,
     "end_time": "2024-09-29T12:28:50.517990",
     "exception": false,
     "start_time": "2024-09-29T12:28:50.512152",
     "status": "completed"
    },
    "tags": []
   },
   "source": [
    "# 3) Count Feature\n",
    "\n",
    "Let's try creating a feature that describes how many kinds of outdoor areas a dwelling has. Create a feature `PorchTypes` that counts how many of the following are greater than 0.0:\n",
    "\n",
    "```\n",
    "WoodDeckSF\n",
    "OpenPorchSF\n",
    "EnclosedPorch\n",
    "Threeseasonporch\n",
    "ScreenPorch\n",
    "```"
   ]
  },
  {
   "cell_type": "code",
   "execution_count": 6,
   "id": "3774bbc8",
   "metadata": {
    "execution": {
     "iopub.execute_input": "2024-09-29T12:28:50.532110Z",
     "iopub.status.busy": "2024-09-29T12:28:50.531719Z",
     "iopub.status.idle": "2024-09-29T12:28:50.551117Z",
     "shell.execute_reply": "2024-09-29T12:28:50.549933Z"
    },
    "lines_to_next_cell": 0,
    "papermill": {
     "duration": 0.029948,
     "end_time": "2024-09-29T12:28:50.554017",
     "exception": false,
     "start_time": "2024-09-29T12:28:50.524069",
     "status": "completed"
    },
    "tags": []
   },
   "outputs": [
    {
     "data": {
      "application/javascript": [
       "parent.postMessage({\"jupyterEvent\": \"custom.exercise_interaction\", \"data\": {\"outcomeType\": 1, \"valueTowardsCompletion\": 0.2, \"interactionType\": 1, \"questionType\": 2, \"questionId\": \"3_Q3\", \"learnToolsVersion\": \"0.3.4\", \"failureMessage\": \"\", \"exceptionClass\": \"\", \"trace\": \"\"}}, \"*\")"
      ],
      "text/plain": [
       "<IPython.core.display.Javascript object>"
      ]
     },
     "metadata": {},
     "output_type": "display_data"
    },
    {
     "data": {
      "text/markdown": [
       "<span style=\"color:#33cc33\">Correct</span>"
      ],
      "text/plain": [
       "Correct"
      ]
     },
     "metadata": {},
     "output_type": "display_data"
    }
   ],
   "source": [
    "X_3 = pd.DataFrame()\n",
    "\n",
    "# YOUR CODE HERE\n",
    "X_3[\"PorchTypes\"] = df[[\"WoodDeckSF\", \"OpenPorchSF\", \"EnclosedPorch\", \"Threeseasonporch\", \"ScreenPorch\"]].gt(0.0).sum(axis = 1)\n",
    "\n",
    "# Check your answer\n",
    "q_3.check()"
   ]
  },
  {
   "cell_type": "code",
   "execution_count": 7,
   "id": "f2fffb51",
   "metadata": {
    "execution": {
     "iopub.execute_input": "2024-09-29T12:28:50.569005Z",
     "iopub.status.busy": "2024-09-29T12:28:50.568206Z",
     "iopub.status.idle": "2024-09-29T12:28:50.573297Z",
     "shell.execute_reply": "2024-09-29T12:28:50.571858Z"
    },
    "lines_to_next_cell": 0,
    "papermill": {
     "duration": 0.015556,
     "end_time": "2024-09-29T12:28:50.576049",
     "exception": false,
     "start_time": "2024-09-29T12:28:50.560493",
     "status": "completed"
    },
    "tags": []
   },
   "outputs": [],
   "source": [
    "# Lines below will give you a hint or solution code\n",
    "#q_3.hint()\n",
    "#q_3.solution()"
   ]
  },
  {
   "cell_type": "markdown",
   "id": "2ff049ee",
   "metadata": {
    "papermill": {
     "duration": 0.006201,
     "end_time": "2024-09-29T12:28:50.588825",
     "exception": false,
     "start_time": "2024-09-29T12:28:50.582624",
     "status": "completed"
    },
    "tags": []
   },
   "source": [
    "# 4) Break Down a Categorical Feature\n",
    "\n",
    "`MSSubClass` describes the type of a dwelling:"
   ]
  },
  {
   "cell_type": "code",
   "execution_count": 8,
   "id": "e2db3586",
   "metadata": {
    "execution": {
     "iopub.execute_input": "2024-09-29T12:28:50.603180Z",
     "iopub.status.busy": "2024-09-29T12:28:50.602741Z",
     "iopub.status.idle": "2024-09-29T12:28:50.610415Z",
     "shell.execute_reply": "2024-09-29T12:28:50.609383Z"
    },
    "papermill": {
     "duration": 0.017581,
     "end_time": "2024-09-29T12:28:50.612716",
     "exception": false,
     "start_time": "2024-09-29T12:28:50.595135",
     "status": "completed"
    },
    "tags": []
   },
   "outputs": [
    {
     "data": {
      "text/plain": [
       "array(['One_Story_1946_and_Newer_All_Styles', 'Two_Story_1946_and_Newer',\n",
       "       'One_Story_PUD_1946_and_Newer',\n",
       "       'One_and_Half_Story_Finished_All_Ages', 'Split_Foyer',\n",
       "       'Two_Story_PUD_1946_and_Newer', 'Split_or_Multilevel',\n",
       "       'One_Story_1945_and_Older', 'Duplex_All_Styles_and_Ages',\n",
       "       'Two_Family_conversion_All_Styles_and_Ages',\n",
       "       'One_and_Half_Story_Unfinished_All_Ages',\n",
       "       'Two_Story_1945_and_Older', 'Two_and_Half_Story_All_Ages',\n",
       "       'One_Story_with_Finished_Attic_All_Ages',\n",
       "       'PUD_Multilevel_Split_Level_Foyer',\n",
       "       'One_and_Half_Story_PUD_All_Ages'], dtype=object)"
      ]
     },
     "execution_count": 8,
     "metadata": {},
     "output_type": "execute_result"
    }
   ],
   "source": [
    "df.MSSubClass.unique()"
   ]
  },
  {
   "cell_type": "markdown",
   "id": "bd2d5369",
   "metadata": {
    "papermill": {
     "duration": 0.006755,
     "end_time": "2024-09-29T12:28:50.626206",
     "exception": false,
     "start_time": "2024-09-29T12:28:50.619451",
     "status": "completed"
    },
    "tags": []
   },
   "source": [
    "You can see that there is a more general categorization described (roughly) by the first word of each category. Create a feature containing only these first words by splitting `MSSubClass` at the first underscore `_`. (Hint: In the `split` method use an argument `n=1`.)"
   ]
  },
  {
   "cell_type": "code",
   "execution_count": 9,
   "id": "be579c87",
   "metadata": {
    "execution": {
     "iopub.execute_input": "2024-09-29T12:28:50.641084Z",
     "iopub.status.busy": "2024-09-29T12:28:50.640652Z",
     "iopub.status.idle": "2024-09-29T12:28:50.667145Z",
     "shell.execute_reply": "2024-09-29T12:28:50.666039Z"
    },
    "lines_to_next_cell": 0,
    "papermill": {
     "duration": 0.036909,
     "end_time": "2024-09-29T12:28:50.669706",
     "exception": false,
     "start_time": "2024-09-29T12:28:50.632797",
     "status": "completed"
    },
    "tags": []
   },
   "outputs": [
    {
     "data": {
      "application/javascript": [
       "parent.postMessage({\"jupyterEvent\": \"custom.exercise_interaction\", \"data\": {\"outcomeType\": 1, \"valueTowardsCompletion\": 0.2, \"interactionType\": 1, \"questionType\": 2, \"questionId\": \"4_Q4\", \"learnToolsVersion\": \"0.3.4\", \"failureMessage\": \"\", \"exceptionClass\": \"\", \"trace\": \"\"}}, \"*\")"
      ],
      "text/plain": [
       "<IPython.core.display.Javascript object>"
      ]
     },
     "metadata": {},
     "output_type": "display_data"
    },
    {
     "data": {
      "text/markdown": [
       "<span style=\"color:#33cc33\">Correct</span>"
      ],
      "text/plain": [
       "Correct"
      ]
     },
     "metadata": {},
     "output_type": "display_data"
    }
   ],
   "source": [
    "X_4 = pd.DataFrame()\n",
    "\n",
    "# YOUR CODE HERE\n",
    "X_4[\"MSClass\"] = df.MSSubClass.str.split(\"_\", n=1, expand=True)[0]\n",
    "\n",
    "# Check your answer\n",
    "q_4.check()"
   ]
  },
  {
   "cell_type": "code",
   "execution_count": 10,
   "id": "69d7c201",
   "metadata": {
    "execution": {
     "iopub.execute_input": "2024-09-29T12:28:50.686265Z",
     "iopub.status.busy": "2024-09-29T12:28:50.685298Z",
     "iopub.status.idle": "2024-09-29T12:28:50.694268Z",
     "shell.execute_reply": "2024-09-29T12:28:50.693175Z"
    },
    "lines_to_next_cell": 0,
    "papermill": {
     "duration": 0.020204,
     "end_time": "2024-09-29T12:28:50.696822",
     "exception": false,
     "start_time": "2024-09-29T12:28:50.676618",
     "status": "completed"
    },
    "tags": []
   },
   "outputs": [
    {
     "data": {
      "application/javascript": [
       "parent.postMessage({\"jupyterEvent\": \"custom.exercise_interaction\", \"data\": {\"interactionType\": 3, \"questionType\": 2, \"questionId\": \"4_Q4\", \"learnToolsVersion\": \"0.3.4\", \"valueTowardsCompletion\": 0.0, \"failureMessage\": \"\", \"exceptionClass\": \"\", \"trace\": \"\", \"outcomeType\": 4}}, \"*\")"
      ],
      "text/plain": [
       "<IPython.core.display.Javascript object>"
      ]
     },
     "metadata": {},
     "output_type": "display_data"
    },
    {
     "data": {
      "text/markdown": [
       "<span style=\"color:#33cc99\">Solution:</span> \n",
       "```python\n",
       "\n",
       "X_4 = pd.DataFrame()\n",
       "\n",
       "X_4[\"MSClass\"] = df.MSSubClass.str.split(\"_\", n=1, expand=True)[0]\n",
       "\n",
       "```"
      ],
      "text/plain": [
       "Solution: \n",
       "```python\n",
       "\n",
       "X_4 = pd.DataFrame()\n",
       "\n",
       "X_4[\"MSClass\"] = df.MSSubClass.str.split(\"_\", n=1, expand=True)[0]\n",
       "\n",
       "```"
      ]
     },
     "metadata": {},
     "output_type": "display_data"
    }
   ],
   "source": [
    "# Lines below will give you a hint or solution code\n",
    "#q_4.hint()\n",
    "q_4.solution()"
   ]
  },
  {
   "cell_type": "markdown",
   "id": "8183972e",
   "metadata": {
    "papermill": {
     "duration": 0.006922,
     "end_time": "2024-09-29T12:28:50.710762",
     "exception": false,
     "start_time": "2024-09-29T12:28:50.703840",
     "status": "completed"
    },
    "tags": []
   },
   "source": [
    "# 5) Use a Grouped Transform\n",
    "\n",
    "The value of a home often depends on how it compares to typical homes in its neighborhood. Create a feature `MedNhbdArea` that describes the *median* of `GrLivArea` grouped on `Neighborhood`."
   ]
  },
  {
   "cell_type": "code",
   "execution_count": 11,
   "id": "d971b3dd",
   "metadata": {
    "execution": {
     "iopub.execute_input": "2024-09-29T12:28:50.726840Z",
     "iopub.status.busy": "2024-09-29T12:28:50.726444Z",
     "iopub.status.idle": "2024-09-29T12:28:50.750558Z",
     "shell.execute_reply": "2024-09-29T12:28:50.749095Z"
    },
    "lines_to_next_cell": 0,
    "papermill": {
     "duration": 0.035294,
     "end_time": "2024-09-29T12:28:50.753104",
     "exception": false,
     "start_time": "2024-09-29T12:28:50.717810",
     "status": "completed"
    },
    "tags": []
   },
   "outputs": [
    {
     "name": "stdout",
     "output_type": "stream",
     "text": [
      "0    1200.0\n",
      "1    1200.0\n",
      "2    1200.0\n",
      "3    1200.0\n",
      "4    1560.0\n",
      "Name: GrLivArea, dtype: float64\n"
     ]
    },
    {
     "data": {
      "application/javascript": [
       "parent.postMessage({\"jupyterEvent\": \"custom.exercise_interaction\", \"data\": {\"outcomeType\": 1, \"valueTowardsCompletion\": 0.2, \"interactionType\": 1, \"questionType\": 2, \"questionId\": \"5_Q5\", \"learnToolsVersion\": \"0.3.4\", \"failureMessage\": \"\", \"exceptionClass\": \"\", \"trace\": \"\"}}, \"*\")"
      ],
      "text/plain": [
       "<IPython.core.display.Javascript object>"
      ]
     },
     "metadata": {},
     "output_type": "display_data"
    },
    {
     "data": {
      "text/markdown": [
       "<span style=\"color:#33cc33\">Correct</span>"
      ],
      "text/plain": [
       "Correct"
      ]
     },
     "metadata": {},
     "output_type": "display_data"
    }
   ],
   "source": [
    "X_5 = pd.DataFrame()\n",
    "\n",
    "# YOUR CODE HERE\n",
    "X_5[\"MedNhbdArea\"] = df.groupby(\"Neighborhood\").GrLivArea.transform(\"median\")\n",
    "print(df.groupby(\"Neighborhood\").GrLivArea.transform(\"median\").head())\n",
    "\n",
    "# Check your answer\n",
    "q_5.check()"
   ]
  },
  {
   "cell_type": "code",
   "execution_count": 12,
   "id": "1dc00f18",
   "metadata": {
    "execution": {
     "iopub.execute_input": "2024-09-29T12:28:50.769752Z",
     "iopub.status.busy": "2024-09-29T12:28:50.769303Z",
     "iopub.status.idle": "2024-09-29T12:28:50.774020Z",
     "shell.execute_reply": "2024-09-29T12:28:50.772927Z"
    },
    "lines_to_next_cell": 0,
    "papermill": {
     "duration": 0.015622,
     "end_time": "2024-09-29T12:28:50.776286",
     "exception": false,
     "start_time": "2024-09-29T12:28:50.760664",
     "status": "completed"
    },
    "tags": []
   },
   "outputs": [],
   "source": [
    "# Lines below will give you a hint or solution code\n",
    "#q_5.hint()\n",
    "#q_5.solution()"
   ]
  },
  {
   "cell_type": "markdown",
   "id": "8f51fc85",
   "metadata": {
    "papermill": {
     "duration": 0.008095,
     "end_time": "2024-09-29T12:28:50.791992",
     "exception": false,
     "start_time": "2024-09-29T12:28:50.783897",
     "status": "completed"
    },
    "tags": []
   },
   "source": [
    "Now you've made your first new feature set! If you like, you can run the cell below to score the model with all of your new features added:"
   ]
  },
  {
   "cell_type": "code",
   "execution_count": 13,
   "id": "6af0a147",
   "metadata": {
    "execution": {
     "iopub.execute_input": "2024-09-29T12:28:50.808501Z",
     "iopub.status.busy": "2024-09-29T12:28:50.808072Z",
     "iopub.status.idle": "2024-09-29T12:28:55.743527Z",
     "shell.execute_reply": "2024-09-29T12:28:55.742568Z"
    },
    "papermill": {
     "duration": 4.946619,
     "end_time": "2024-09-29T12:28:55.746029",
     "exception": false,
     "start_time": "2024-09-29T12:28:50.799410",
     "status": "completed"
    },
    "tags": []
   },
   "outputs": [
    {
     "name": "stdout",
     "output_type": "stream",
     "text": [
      "0.14336777904947118\n",
      "0.13954039591355258\n"
     ]
    }
   ],
   "source": [
    "X_new = X.join([X_1, X_2, X_3, X_4, X_5])\n",
    "print(score_dataset(X, y))\n",
    "print(score_dataset(X_new, y))\n"
   ]
  },
  {
   "cell_type": "markdown",
   "id": "2b1e7313",
   "metadata": {
    "papermill": {
     "duration": 0.007098,
     "end_time": "2024-09-29T12:28:55.760628",
     "exception": false,
     "start_time": "2024-09-29T12:28:55.753530",
     "status": "completed"
    },
    "tags": []
   },
   "source": [
    "# Keep Going #\n",
    "\n",
    "[**Untangle spatial relationships**](https://www.kaggle.com/ryanholbrook/clustering-with-k-means) by adding cluster labels to your dataset."
   ]
  },
  {
   "cell_type": "markdown",
   "id": "26df1fa4",
   "metadata": {
    "papermill": {
     "duration": 0.006996,
     "end_time": "2024-09-29T12:28:55.774898",
     "exception": false,
     "start_time": "2024-09-29T12:28:55.767902",
     "status": "completed"
    },
    "tags": []
   },
   "source": [
    "---\n",
    "\n",
    "\n",
    "\n",
    "\n",
    "*Have questions or comments? Visit the [course discussion forum](https://www.kaggle.com/learn/feature-engineering/discussion) to chat with other learners.*"
   ]
  }
 ],
 "metadata": {
  "jupytext": {
   "cell_metadata_filter": "-all",
   "formats": "ipynb"
  },
  "kaggle": {
   "accelerator": "none",
   "dataSources": [
    {
     "datasetId": 933090,
     "sourceId": 1828856,
     "sourceType": "datasetVersion"
    }
   ],
   "isGpuEnabled": false,
   "isInternetEnabled": false,
   "language": "python",
   "sourceType": "notebook"
  },
  "kernelspec": {
   "display_name": "Python 3",
   "language": "python",
   "name": "python3"
  },
  "language_info": {
   "codemirror_mode": {
    "name": "ipython",
    "version": 3
   },
   "file_extension": ".py",
   "mimetype": "text/x-python",
   "name": "python",
   "nbconvert_exporter": "python",
   "pygments_lexer": "ipython3",
   "version": "3.10.14"
  },
  "papermill": {
   "default_parameters": {},
   "duration": 11.373116,
   "end_time": "2024-09-29T12:28:56.402923",
   "environment_variables": {},
   "exception": null,
   "input_path": "__notebook__.ipynb",
   "output_path": "__notebook__.ipynb",
   "parameters": {},
   "start_time": "2024-09-29T12:28:45.029807",
   "version": "2.6.0"
  }
 },
 "nbformat": 4,
 "nbformat_minor": 5
}
